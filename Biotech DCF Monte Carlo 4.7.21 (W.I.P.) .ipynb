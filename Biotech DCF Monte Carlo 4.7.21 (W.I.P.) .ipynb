{
 "cells": [
  {
   "cell_type": "code",
   "execution_count": 8,
   "metadata": {},
   "outputs": [
    {
     "name": "stdout",
     "output_type": "stream",
     "text": [
      "                2021E  2022E  2023E  2024E  2025E  2026E  2027E  2028E  2029E  \\\n",
      "Sales           -15.0  -15.0  -15.0    5.0   25.0   37.5   56.2   84.4  126.6   \n",
      "EBIT             -8.8   -8.8   -8.8    3.0   14.8   22.1   33.2   49.8   74.7   \n",
      "Free Cash Flow    NaN   -8.8   -8.8    2.1   11.5   17.4   26.0   39.0   58.6   \n",
      "\n",
      "                 2030   2031  \n",
      "Sales           189.8  284.8  \n",
      "EBIT            112.0  168.0  \n",
      "Free Cash Flow   87.9  131.8  \n"
     ]
    },
    {
     "data": {
      "image/png": "[encoded data removed]",
      "text/plain": [
       "<Figure size 432x288 with 1 Axes>"
      ]
     },
     "metadata": {
      "needs_background": "light"
     },
     "output_type": "display_data"
    },
    {
     "name": "stderr",
     "output_type": "stream",
     "text": [
      "C:\\Users\\nsw26\\Anaconda3\\lib\\site-packages\\scipy\\stats\\stats.py:1713: FutureWarning: Using a non-tuple sequence for multidimensional indexing is deprecated; use `arr[tuple(seq)]` instead of `arr[seq]`. In the future this will be interpreted as an array index, `arr[np.array(seq)]`, which will result either in an error or a different result.\n",
      "  return np.add.reduce(sorted[indexer] * weights, axis=axis) / sumval\n"
     ]
    },
    {
     "data": {
      "text/plain": [
       "<matplotlib.axes._subplots.AxesSubplot at 0x1f836119588>"
      ]
     },
     "execution_count": 8,
     "metadata": {},
     "output_type": "execute_result"
    },
    {
     "data": {
      "image/png": "[encoded data removed]",
      "text/plain": [
       "<Figure size 432x288 with 1 Axes>"
      ]
     },
     "metadata": {},
     "output_type": "display_data"
    }
   ],
   "source": [
    "#Adapted from TowardsDataScience (includes biotech-specific modifications)\n",
    "#https://towardsdatascience.com/automating-the-dcf-valuation-35abde04cdb9\n",
    "\n",
    "#import libraries \n",
    "import numpy as np \n",
    "import pandas as pd \n",
    "import matplotlib.pyplot as plt \n",
    "%matplotlib inline \n",
    "import seaborn as sns\n",
    "\n",
    "\n",
    "#setup the years \n",
    "years=['2021E','2022E','2023E','2024E','2025E', '2026E','2027E','2028E','2029E','2030','2031']\n",
    "sales=pd.Series(index=years)\n",
    "sales['2021E']=-15\n",
    "sales['2022E']=-15\n",
    "sales['2023E']=-15\n",
    "sales['2024E']=5\n",
    "sales['2025E']=25\n",
    "\n",
    "#revenue growth rate beyond the specified years \n",
    "growth_rate=0.50\n",
    "\n",
    "#for loop for base revenue growth \n",
    "for year in range(5,len(sales)):\n",
    "    sales[year]=sales[year-1]*(1+growth_rate)\n",
    "\n",
    "#specify the P&L \n",
    "ebitda_margin = 0.60\n",
    "depr_percent = 0.01\n",
    "ebitda = sales * ebitda_margin\n",
    "depreciation = sales * depr_percent\n",
    "ebit = ebitda - depreciation\n",
    "nwc_percent = 0.01\n",
    "nwc = sales * nwc_percent \n",
    "change_in_nwc = nwc.shift(1)-nwc \n",
    "capex_percent = depr_percent \n",
    "capex = -(sales * capex_percent)\n",
    "tax_rate = 0.21 \n",
    "tax_payment = -ebit * tax_rate\n",
    "tax_payment = tax_payment.apply(lambda x: min(x,0))\n",
    "free_cash_flow = ebit + depreciation + tax_payment + capex + change_in_nwc\n",
    "\n",
    "#DCF inputs\n",
    "cost_of_capital = 0.2\n",
    "terminal_growth = 0.02\n",
    "share_count = 20\n",
    "POS=0.75\n",
    "\n",
    "#DCF setup \n",
    "terminal_value=((free_cash_flow[-1] * (1+ terminal_growth)) / (cost_of_capital - terminal_growth))\n",
    "discount_factors = [(1/ (1+cost_of_capital)) ** i for i in range (1,len(sales))]\n",
    "dcf_value = (sum(free_cash_flow[1:] * discount_factors) + terminal_value * discount_factors[-1])\n",
    "output = pd.DataFrame([sales,ebit,free_cash_flow],index=['Sales','EBIT','Free Cash Flow']).round(1)\n",
    "\n",
    "#statistical distributions (normal)\n",
    "iterations = 100\n",
    "sales_growth_dist = np.random.normal(loc=0.1,scale=0.1, size=iterations)\n",
    "ebitda_margin_dist = np.random.normal(loc=0.14,scale=0.02,size=iterations)\n",
    "nwc_percent_dist= np.random.normal(loc=0.24,scale=0.01,size=iterations)\n",
    "\n",
    "output_distribution=[]\n",
    "\n",
    "#run the DCF + Monte Carlo \n",
    "for i in range(iterations):\n",
    "    for year in range(5,len(sales)):\n",
    "        sales[year] = sales[year-1]*(1+sales_growth_dist[0])*POS\n",
    "        ebitda = sales * ebitda_margin_dist[i]\n",
    "        depreciation = (sales * depr_percent)\n",
    "        ebit = ebitda - depreciation\n",
    "        nwc = sales * nwc_percent_dist[i]\n",
    "        change_in_nwc=nwc.shift(1)-nwc \n",
    "        capex = -(sales * capex_percent)\n",
    "        tax_payment = -ebit * tax_rate\n",
    "        tax_payment = tax_payment.apply(lambda x: min(x,0))\n",
    "        free_cash_flow = ebit + depreciation + tax_payment + capex + change_in_nwc\n",
    "        \n",
    "        terminal_value = (free_cash_flow[-1] * 1.02) / (cost_of_capital - 0.02)\n",
    "        free_cash_flow[-1]+= terminal_value\n",
    "        discount_factors = [(1/ (1+cost_of_capital)) ** i for i in range (1,len(sales))]\n",
    "        dcf_value = sum(free_cash_flow[1:] * discount_factors)\n",
    "        share_value = dcf_value/share_count\n",
    "        output_distribution.append(share_value)\n",
    "\n",
    "#visualizations \n",
    "print(output)\n",
    "#plt.hist(output_distribution,bins=100) \n",
    "plt.hist(output_distribution, bins='auto', color='#0504aa')\n",
    "plt.xlabel('Share value')\n",
    "plt.ylabel('Frequency')\n",
    "plt.title('Monte Carlo Simulation: DCF Valuation')\n",
    "#plt.ylim((None, 100))\n",
    "plt.xlim(-0.25,0.25)\n",
    "plt.show()\n",
    "\n",
    "sns.set_style('darkgrid')\n",
    "sns.distplot(output_distribution)"
   ]
  }
 ],
 "metadata": {
  "kernelspec": {
   "display_name": "Python 3",
   "language": "python",
   "name": "python3"
  },
  "language_info": {
   "codemirror_mode": {
    "name": "ipython",
    "version": 3
   },
   "file_extension": ".py",
   "mimetype": "text/x-python",
   "name": "python",
   "nbconvert_exporter": "python",
   "pygments_lexer": "ipython3",
   "version": "3.7.0"
  }
 },
 "nbformat": 4,
 "nbformat_minor": 2
}
